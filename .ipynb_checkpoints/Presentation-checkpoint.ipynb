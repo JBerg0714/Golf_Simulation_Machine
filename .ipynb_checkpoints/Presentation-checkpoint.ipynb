{
 "cells": [
  {
   "cell_type": "code",
   "execution_count": 1,
   "metadata": {
    "collapsed": true,
    "slideshow": {
     "slide_type": "skip"
    }
   },
   "outputs": [],
   "source": [
    "## import pandas as pd\n",
    "import numpy as np\n",
    "import matplotlib.pyplot as plt #used for graphing"
   ]
  },
  {
   "cell_type": "code",
   "execution_count": 2,
   "metadata": {
    "collapsed": true,
    "slideshow": {
     "slide_type": "skip"
    }
   },
   "outputs": [],
   "source": [
    "#show graphs inline (do not use for print publication quality graphs)\n",
    "%matplotlib inline"
   ]
  },
  {
   "cell_type": "code",
   "execution_count": 3,
   "metadata": {
    "collapsed": true,
    "slideshow": {
     "slide_type": "skip"
    }
   },
   "outputs": [],
   "source": [
    "import io\n",
    "import base64\n",
    "from IPython.display import HTML"
   ]
  },
  {
   "cell_type": "markdown",
   "metadata": {
    "slideshow": {
     "slide_type": "slide"
    }
   },
   "source": [
    "# Reverse Engineering a Golf Simulator \n",
    "## Joshua Berg "
   ]
  },
  {
   "cell_type": "markdown",
   "metadata": {
    "slideshow": {
     "slide_type": "slide"
    }
   },
   "source": [
    "## Goal \n",
    "\n",
    "The initial goal of this research was to reverse engineer an HD golf simulator to determine the computational model to show the trajectory of a golf ball while in flight. The idea was to take the output of data from the simulator itself and use the velocity, apex/peak, carry, launch angle and spin values to plug into physical equations to compare the computational trajectory of the golf ball to the trajectory of the golfball depicted on the screen of the simulator. The idea was to keep to look at shots with purely backspin to prevent having to analyze the data within 3-dimensions."
   ]
  },
  {
   "cell_type": "markdown",
   "metadata": {
    "slideshow": {
     "slide_type": "slide"
    }
   },
   "source": [
    "## Using HD Golf Simulator \n",
    "\n",
    "### Swinging:\n",
    "\n",
    "The device used was a High Definition Golf Simulator with video and forceplate analysis that is located in the Biomechanics Lab on High Point University's campus. The video below provides a visual example of how the simulator was used to collect data. "
   ]
  },
  {
   "cell_type": "code",
   "execution_count": 4,
   "metadata": {
    "slideshow": {
     "slide_type": "subslide"
    }
   },
   "outputs": [
    {
     "data": {
      "image/jpeg": "[encoded data removed]",
      "text/html": [
       "\n",
       "        <iframe\n",
       "            width=\"400\"\n",
       "            height=\"300\"\n",
       "            src=\"https://www.youtube.com/embed/ebIrNY8LZyQ\"\n",
       "            frameborder=\"0\"\n",
       "            allowfullscreen\n",
       "        ></iframe>\n",
       "        "
      ],
      "text/plain": [
       "<IPython.lib.display.YouTubeVideo at 0x11433acf8>"
      ]
     },
     "execution_count": 4,
     "metadata": {},
     "output_type": "execute_result"
    }
   ],
   "source": [
    "from IPython.display import YouTubeVideo\n",
    "YouTubeVideo('ebIrNY8LZyQ') \n",
    "# this was used for presentation in order to avoid having to open another tab outside of the presentation"
   ]
  },
  {
   "cell_type": "markdown",
   "metadata": {
    "slideshow": {
     "slide_type": "subslide"
    }
   },
   "source": [
    "https://www.youtube.com/watch?v=ebIrNY8LZyQ "
   ]
  },
  {
   "cell_type": "markdown",
   "metadata": {
    "slideshow": {
     "slide_type": "subslide"
    }
   },
   "source": [
    "The video below shows the trajectory line of the the golf shot taken in the previous video. "
   ]
  },
  {
   "cell_type": "code",
   "execution_count": 5,
   "metadata": {
    "slideshow": {
     "slide_type": "subslide"
    }
   },
   "outputs": [
    {
     "data": {
      "image/jpeg": "[encoded data removed]",
      "text/html": [
       "\n",
       "        <iframe\n",
       "            width=\"400\"\n",
       "            height=\"300\"\n",
       "            src=\"https://www.youtube.com/embed/TZkbjIEdNis\"\n",
       "            frameborder=\"0\"\n",
       "            allowfullscreen\n",
       "        ></iframe>\n",
       "        "
      ],
      "text/plain": [
       "<IPython.lib.display.YouTubeVideo at 0x1143e2630>"
      ]
     },
     "execution_count": 5,
     "metadata": {},
     "output_type": "execute_result"
    }
   ],
   "source": [
    "YouTubeVideo('TZkbjIEdNis')\n",
    "# this was used for presentation in order to avoid having to open another tab outside of the presentation"
   ]
  },
  {
   "cell_type": "markdown",
   "metadata": {
    "slideshow": {
     "slide_type": "subslide"
    }
   },
   "source": [
    "https://www.youtube.com/watch?v=TZkbjIEdNis"
   ]
  },
  {
   "cell_type": "markdown",
   "metadata": {
    "slideshow": {
     "slide_type": "slide"
    }
   },
   "source": [
    "## Initial Data Collection\n",
    "\n",
    "\n",
    "<center>\n",
    "<img src=\"shotdata.png\" width=800>\n",
    "</center>\n",
    "\n",
    "Following each shot, the simulator would output the following data onto a computer that was attatched to the simulator. This data was organized within an excel spreadsheet to more easily identify trends between shots that were \"elite\" and shots that were \"sub-par\". "
   ]
  },
  {
   "cell_type": "markdown",
   "metadata": {
    "slideshow": {
     "slide_type": "slide"
    }
   },
   "source": [
    "## IMPORTANT TO NOTE: \n",
    "\n",
    "- The only shot data that was used for comparison were those with no sidespin - only backspin ( 0.0$^\\circ$ -  0.3$^\\circ$)\n",
    "- An M2 Taylormade Pitching wedge was used for each trial(45$^\\circ$)"
   ]
  },
  {
   "cell_type": "markdown",
   "metadata": {
    "slideshow": {
     "slide_type": "slide"
    }
   },
   "source": [
    "## Forces on the ball \n",
    "\n",
    "\n",
    "### Gravity \n",
    "\n",
    "$$ \\vec{F}_{grav} = m \\vec{g} $$ \n",
    "\n",
    "### Magnus Force (Lift)\n",
    "\n",
    "\n",
    "$$ \\vec{F}_{lift} = \\frac{1}{2}C_m\\rho AR\\vec{\\omega}\\times \\vec{v} $$\n",
    "\n",
    "where: \n",
    "\n",
    "- $\\rho$ - Density of air \n",
    "- $C_m$ - Lift Coefficient \n",
    "- $A$ - Cross Sectional Area \n",
    "- $\\vec{v}$ - Velocity of ball \n",
    "- $\\vec{\\omega}$ - Spin velocity \n",
    "\n",
    "### Drag Force \n",
    "\n",
    "$$\\vec{F}_d = \\frac{1}{2}C_d\\rho Av\\vec{v}$$\n",
    "\n",
    "source referenced: https://github.com/JBerg0714/Golf_Simulation_Machine/blob/master/Source%20that%20was%20referenced.pdf"
   ]
  },
  {
   "cell_type": "markdown",
   "metadata": {
    "slideshow": {
     "slide_type": "slide"
    }
   },
   "source": [
    "<center>\n",
    "## INITIAL TRIALS "
   ]
  },
  {
   "cell_type": "markdown",
   "metadata": {
    "slideshow": {
     "slide_type": "subslide"
    }
   },
   "source": [
    "## First Set of Trials \n",
    "<center>\n",
    "<img src=\"clearimage.png\" width=800>\n",
    "</center>\n",
    "\n",
    "The red dots are individuals points taken from the trajectory of the golf ball provided by the simulator. The blue line is the expected trajectory of the golf ball using the values output by the simulator that were plugged into the force equations that were shown above. Some of these values were: \n",
    "#### - velocity (vector)\n",
    "#### - spin rate \n",
    "\n",
    "Link to the jupyter notebook used: https://github.com/JBerg0714/Golf_Simulation_Machine/blob/master/Jupyter%20Notebooks%20/golf-ball-rk4-v3.ipynb\n"
   ]
  },
  {
   "cell_type": "markdown",
   "metadata": {
    "collapsed": true,
    "slideshow": {
     "slide_type": "subslide"
    }
   },
   "source": [
    "## Calculating RMS \n",
    "\n",
    "RMS Definition:  The square **root** of the **mean** of the sum of the **square** of the distance between the model points and the HD Golf points for both the peak and the end.  \n",
    "\n",
    "### Peak of the shot\n",
    "\n",
    "$$ dP^2 = (X_{peak_{HD}} - X_{apex_{model}})^2 + (Y_{apex_{HD}} - Y_{apex_{model}})^2$$\n",
    "\n",
    "### End Point of the shot\n",
    "\n",
    "$$ dE^2 = (x_{end_{HD}} - x_{end_{model}})^2 + (y_{end_{model}})^2 $$\n",
    "\n",
    "### RMS of the shot\n",
    "\n",
    "$$ RMS = \\sqrt{\\frac{dP^2 + dE^2}{2}} $$ "
   ]
  },
  {
   "cell_type": "markdown",
   "metadata": {
    "slideshow": {
     "slide_type": "subslide"
    }
   },
   "source": [
    "<center>\n",
    "<img src=\"lasttry.png\" width=800>\n",
    "</center>\n",
    "\n",
    "The image above shows a trial where there were clear differences in the simulator trajectory line and computational model trajectory line. The difference between the two trend lines is represented by the RMS values discussed in the previous slide. "
   ]
  },
  {
   "cell_type": "markdown",
   "metadata": {
    "slideshow": {
     "slide_type": "subslide"
    }
   },
   "source": [
    "### RMS for one trial: \n",
    "\n",
    "#### Using Manually altered parameters \n",
    "\n",
    "There coefficient for lift and drag was unknown. In order to solve for the combinations of coefficients that led to the lowest average RMS value for the first 12 trials, the coefficients were manually changed and applied to all trials. The following were the initial coefficients provided the lowest average RMS value:\n",
    "\n",
    "- $C_d$ - 0.36\n",
    "- $C_m$ - 0.50\n",
    "\n",
    "For each trial the RMS values were calculated and were printed out like the following: \n",
    "\n",
    "<center>\n",
    "<img src=\"image3.png\" width=800>\n",
    "</center>\n",
    "\n",
    "\n",
    "### Average RMS for the first 12 trials:  3.371 m\n",
    "\n",
    "This means that the average difference in the trend line for the simulator and computational model was 3.37 meters. \n",
    "\n",
    "Link to the jupyter notebook used: https://github.com/JBerg0714/Golf_Simulation_Machine/blob/master/Jupyter%20Notebooks%20/golf-ball-rk4-v4.ipynb"
   ]
  },
  {
   "cell_type": "markdown",
   "metadata": {
    "slideshow": {
     "slide_type": "subslide"
    }
   },
   "source": [
    "## Optimization of coefficients  \n",
    "\n",
    "A sub-goal for this project was to make the computational model autonomous. In other words, to find the best pair of coefficients that led to the lowest RMS values. \n",
    "\n",
    "### Using Scipy\n",
    "\n",
    "The Scipy function was used to find these values. \n",
    "\n",
    "<center>\n",
    "<img src=\"done.png\" width=800>\n",
    "</center>\n",
    "\n",
    "#### Best coefficients: \n",
    "- $C_d$ - 0.41123417  \n",
    "- $C_m$ - 0.59101698\n",
    "\n",
    "Link to jupyter notebook used: https://github.com/JBerg0714/Golf_Simulation_Machine/blob/master/Jupyter%20Notebooks%20/golf-ball-rk4-v5.ipynb"
   ]
  },
  {
   "cell_type": "markdown",
   "metadata": {
    "slideshow": {
     "slide_type": "slide"
    }
   },
   "source": [
    "<center>\n",
    "## APPLIED TRIALS "
   ]
  },
  {
   "cell_type": "markdown",
   "metadata": {
    "slideshow": {
     "slide_type": "subslide"
    }
   },
   "source": [
    "## Using Optimized Parameters \n",
    "\n",
    "After autonomously finding the best coefficents for drag and lift, another set of trials were taken and these values were applied to get another RMS average. \n",
    "\n",
    "<center>\n",
    "<img src=\"soclose.png\" width=800>\n",
    "</center>\n",
    "\n",
    "#### Average RMS for second set of 12 trials: 3.861 m  \n",
    "\n",
    "It was found that for shots with spin rates larger than 9000 rpm, the RMS values were larger. \n",
    "\n",
    "Link to jupyter notebook used: https://github.com/JBerg0714/Golf_Simulation_Machine/blob/master/Jupyter%20Notebooks%20/golf-ball-rk4-v6-(TESTDATA).ipynb"
   ]
  },
  {
   "cell_type": "markdown",
   "metadata": {
    "slideshow": {
     "slide_type": "slide"
    }
   },
   "source": [
    "## Conclusion \n",
    "\n",
    "### Percent Difference of Carry for second set of trials \n",
    "\n",
    " $$\\% Difference = \\frac{(x_{end_{HD}} - x_{end_{model}})}{x_{end_{HD}}}\\times100 $$\n",
    "\n",
    "#### Average Percent Difference:  2.705 % \n",
    "\n",
    "This percent difference accounts for the differences in carry between the simulator and computational carry. Let's say the average golfer can hit the ball 100 yards with there pitching wedge. This means that with a 2.705 percent difference, the computational model is accurate to within 3 yards of each shot. \n",
    "\n",
    "$\\textbf{Example:}$ \n",
    "\n",
    "$\\textit{John's shot with a pitching wedge measured 100 yards by the HD Golf Simulator. This means the computational model we will show the shot being between 97 to 103 yards.}$ \n",
    "\n",
    "Link to jupyter notebook used: https://github.com/JBerg0714/Golf_Simulation_Machine/blob/master/Jupyter%20Notebooks%20/golf-ball-rk4-v10.ipynb"
   ]
  },
  {
   "cell_type": "markdown",
   "metadata": {
    "slideshow": {
     "slide_type": "slide"
    }
   },
   "source": [
    "## In the future \n",
    "\n",
    "- Work with a 3 Dimensional Computational Model (Side Spin)\n",
    "- Account for weather and physical elements such as: \n",
    "\n",
    " - Wind\n",
    " - Slopes of course\n",
    " - Different Lies (Rough, Sand, Fairway)\n",
    " - Bounce and Roll\n"
   ]
  },
  {
   "cell_type": "markdown",
   "metadata": {
    "collapsed": true,
    "slideshow": {
     "slide_type": "slide"
    }
   },
   "source": [
    "# Acknowledgments \n",
    "\n",
    "- Vadym from HD Golf \n",
    "\n",
    "Department of Physics, High Point University\n",
    "- Dr. Aaron Titus \n",
    "\n",
    "Department of Physical Therapy, High Point University\n",
    "- Dr. Eric Hegedus\n",
    "\n",
    "\n",
    "\n",
    "\n"
   ]
  }
 ],
 "metadata": {
  "celltoolbar": "Slideshow",
  "kernelspec": {
   "display_name": "Python 3",
   "language": "python",
   "name": "python3"
  },
  "language_info": {
   "codemirror_mode": {
    "name": "ipython",
    "version": 3
   },
   "file_extension": ".py",
   "mimetype": "text/x-python",
   "name": "python",
   "nbconvert_exporter": "python",
   "pygments_lexer": "ipython3",
   "version": "3.6.0"
  }
 },
 "nbformat": 4,
 "nbformat_minor": 2
}
